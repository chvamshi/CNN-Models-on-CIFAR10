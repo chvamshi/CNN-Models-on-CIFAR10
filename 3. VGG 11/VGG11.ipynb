{
  "nbformat": 4,
  "nbformat_minor": 0,
  "metadata": {
    "colab": {
      "name": "VGG11.ipynb",
      "provenance": [],
      "include_colab_link": true
    },
    "kernelspec": {
      "name": "python3",
      "display_name": "Python 3"
    },
    "language_info": {
      "name": "python"
    },
    "accelerator": "GPU",
    "widgets": {
      "application/vnd.jupyter.widget-state+json": {
        "e83c19cb39bc4b739df9c86cf08563c5": {
          "model_module": "@jupyter-widgets/controls",
          "model_name": "HBoxModel",
          "state": {
            "_view_name": "HBoxView",
            "_dom_classes": [],
            "_model_name": "HBoxModel",
            "_view_module": "@jupyter-widgets/controls",
            "_model_module_version": "1.5.0",
            "_view_count": null,
            "_view_module_version": "1.5.0",
            "box_style": "",
            "layout": "IPY_MODEL_27ea50b9eb114410b1543a777e911f06",
            "_model_module": "@jupyter-widgets/controls",
            "children": [
              "IPY_MODEL_918815158eec4e5b94e3c96b6e90e028",
              "IPY_MODEL_618f77735e4943d79578a8d9e4c93380"
            ]
          }
        },
        "27ea50b9eb114410b1543a777e911f06": {
          "model_module": "@jupyter-widgets/base",
          "model_name": "LayoutModel",
          "state": {
            "_view_name": "LayoutView",
            "grid_template_rows": null,
            "right": null,
            "justify_content": null,
            "_view_module": "@jupyter-widgets/base",
            "overflow": null,
            "_model_module_version": "1.2.0",
            "_view_count": null,
            "flex_flow": null,
            "width": null,
            "min_width": null,
            "border": null,
            "align_items": null,
            "bottom": null,
            "_model_module": "@jupyter-widgets/base",
            "top": null,
            "grid_column": null,
            "overflow_y": null,
            "overflow_x": null,
            "grid_auto_flow": null,
            "grid_area": null,
            "grid_template_columns": null,
            "flex": null,
            "_model_name": "LayoutModel",
            "justify_items": null,
            "grid_row": null,
            "max_height": null,
            "align_content": null,
            "visibility": null,
            "align_self": null,
            "height": null,
            "min_height": null,
            "padding": null,
            "grid_auto_rows": null,
            "grid_gap": null,
            "max_width": null,
            "order": null,
            "_view_module_version": "1.2.0",
            "grid_template_areas": null,
            "object_position": null,
            "object_fit": null,
            "grid_auto_columns": null,
            "margin": null,
            "display": null,
            "left": null
          }
        },
        "918815158eec4e5b94e3c96b6e90e028": {
          "model_module": "@jupyter-widgets/controls",
          "model_name": "FloatProgressModel",
          "state": {
            "_view_name": "ProgressView",
            "style": "IPY_MODEL_b32a427be64444ef8209f92afe2fe7f9",
            "_dom_classes": [],
            "description": "",
            "_model_name": "FloatProgressModel",
            "bar_style": "success",
            "max": 170498071,
            "_view_module": "@jupyter-widgets/controls",
            "_model_module_version": "1.5.0",
            "value": 170498071,
            "_view_count": null,
            "_view_module_version": "1.5.0",
            "orientation": "horizontal",
            "min": 0,
            "description_tooltip": null,
            "_model_module": "@jupyter-widgets/controls",
            "layout": "IPY_MODEL_6eeca2f8c57d4b81bbd20bd8b29c0012"
          }
        },
        "618f77735e4943d79578a8d9e4c93380": {
          "model_module": "@jupyter-widgets/controls",
          "model_name": "HTMLModel",
          "state": {
            "_view_name": "HTMLView",
            "style": "IPY_MODEL_7e47d26304134f30a78fa839f2a8ebd9",
            "_dom_classes": [],
            "description": "",
            "_model_name": "HTMLModel",
            "placeholder": "​",
            "_view_module": "@jupyter-widgets/controls",
            "_model_module_version": "1.5.0",
            "value": " 170499072/? [10:03&lt;00:00, 282358.97it/s]",
            "_view_count": null,
            "_view_module_version": "1.5.0",
            "description_tooltip": null,
            "_model_module": "@jupyter-widgets/controls",
            "layout": "IPY_MODEL_8540ffd55ef44951a4f9231dda0de91b"
          }
        },
        "b32a427be64444ef8209f92afe2fe7f9": {
          "model_module": "@jupyter-widgets/controls",
          "model_name": "ProgressStyleModel",
          "state": {
            "_view_name": "StyleView",
            "_model_name": "ProgressStyleModel",
            "description_width": "initial",
            "_view_module": "@jupyter-widgets/base",
            "_model_module_version": "1.5.0",
            "_view_count": null,
            "_view_module_version": "1.2.0",
            "bar_color": null,
            "_model_module": "@jupyter-widgets/controls"
          }
        },
        "6eeca2f8c57d4b81bbd20bd8b29c0012": {
          "model_module": "@jupyter-widgets/base",
          "model_name": "LayoutModel",
          "state": {
            "_view_name": "LayoutView",
            "grid_template_rows": null,
            "right": null,
            "justify_content": null,
            "_view_module": "@jupyter-widgets/base",
            "overflow": null,
            "_model_module_version": "1.2.0",
            "_view_count": null,
            "flex_flow": null,
            "width": null,
            "min_width": null,
            "border": null,
            "align_items": null,
            "bottom": null,
            "_model_module": "@jupyter-widgets/base",
            "top": null,
            "grid_column": null,
            "overflow_y": null,
            "overflow_x": null,
            "grid_auto_flow": null,
            "grid_area": null,
            "grid_template_columns": null,
            "flex": null,
            "_model_name": "LayoutModel",
            "justify_items": null,
            "grid_row": null,
            "max_height": null,
            "align_content": null,
            "visibility": null,
            "align_self": null,
            "height": null,
            "min_height": null,
            "padding": null,
            "grid_auto_rows": null,
            "grid_gap": null,
            "max_width": null,
            "order": null,
            "_view_module_version": "1.2.0",
            "grid_template_areas": null,
            "object_position": null,
            "object_fit": null,
            "grid_auto_columns": null,
            "margin": null,
            "display": null,
            "left": null
          }
        },
        "7e47d26304134f30a78fa839f2a8ebd9": {
          "model_module": "@jupyter-widgets/controls",
          "model_name": "DescriptionStyleModel",
          "state": {
            "_view_name": "StyleView",
            "_model_name": "DescriptionStyleModel",
            "description_width": "",
            "_view_module": "@jupyter-widgets/base",
            "_model_module_version": "1.5.0",
            "_view_count": null,
            "_view_module_version": "1.2.0",
            "_model_module": "@jupyter-widgets/controls"
          }
        },
        "8540ffd55ef44951a4f9231dda0de91b": {
          "model_module": "@jupyter-widgets/base",
          "model_name": "LayoutModel",
          "state": {
            "_view_name": "LayoutView",
            "grid_template_rows": null,
            "right": null,
            "justify_content": null,
            "_view_module": "@jupyter-widgets/base",
            "overflow": null,
            "_model_module_version": "1.2.0",
            "_view_count": null,
            "flex_flow": null,
            "width": null,
            "min_width": null,
            "border": null,
            "align_items": null,
            "bottom": null,
            "_model_module": "@jupyter-widgets/base",
            "top": null,
            "grid_column": null,
            "overflow_y": null,
            "overflow_x": null,
            "grid_auto_flow": null,
            "grid_area": null,
            "grid_template_columns": null,
            "flex": null,
            "_model_name": "LayoutModel",
            "justify_items": null,
            "grid_row": null,
            "max_height": null,
            "align_content": null,
            "visibility": null,
            "align_self": null,
            "height": null,
            "min_height": null,
            "padding": null,
            "grid_auto_rows": null,
            "grid_gap": null,
            "max_width": null,
            "order": null,
            "_view_module_version": "1.2.0",
            "grid_template_areas": null,
            "object_position": null,
            "object_fit": null,
            "grid_auto_columns": null,
            "margin": null,
            "display": null,
            "left": null
          }
        }
      }
    }
  },
  "cells": [
    {
      "cell_type": "markdown",
      "metadata": {
        "id": "view-in-github",
        "colab_type": "text"
      },
      "source": [
        "<a href=\"https://colab.research.google.com/github/chvamshi/CNN-Models-on-CIFAR10-/blob/main/VGG%2011/VGG11.ipynb\" target=\"_parent\"><img src=\"https://colab.research.google.com/assets/colab-badge.svg\" alt=\"Open In Colab\"/></a>"
      ]
    },
    {
      "cell_type": "code",
      "metadata": {
        "id": "0SyMhlOJwC-l"
      },
      "source": [
        "import torch\n",
        "import torch.nn as nn\n",
        "import torch.nn.functional as F\n",
        "import torch.optim as optim\n",
        "\n",
        "import torchvision.datasets as datasets\n",
        "import torchvision.transforms as transforms\n",
        "import torchvision.models as models\n",
        "import torchvision.utils\n",
        "\n",
        "from torch.utils.data import Dataset, DataLoader\n",
        "\n",
        "from sklearn.model_selection import train_test_split\n",
        "from sklearn.metrics import accuracy_score\n",
        "from sklearn.metrics import classification_report\n",
        "from sklearn.metrics import confusion_matrix\n",
        "from sklearn.metrics import ConfusionMatrixDisplay\n",
        "\n",
        "import numpy as np\n",
        "import pandas as pd\n",
        "import matplotlib.pyplot as plt\n",
        "\n",
        "import time\n",
        "\n",
        "# Use GPU if it is present\n",
        "device = torch.device(\"cuda:0\" if torch.cuda.is_available() else \"cpu\")"
      ],
      "execution_count": null,
      "outputs": []
    },
    {
      "cell_type": "code",
      "metadata": {
        "id": "si-VdedEwe_-"
      },
      "source": [
        "def imshow(img):\n",
        "    img = img / 2 + 0.5     # unnormalize\n",
        "    npimg = img.numpy()\n",
        "    plt.imshow(np.transpose(npimg, (1, 2, 0)))\n",
        "    plt.show()"
      ],
      "execution_count": null,
      "outputs": []
    },
    {
      "cell_type": "code",
      "metadata": {
        "colab": {
          "base_uri": "https://localhost:8080/",
          "height": 120,
          "referenced_widgets": [
            "e83c19cb39bc4b739df9c86cf08563c5",
            "27ea50b9eb114410b1543a777e911f06",
            "918815158eec4e5b94e3c96b6e90e028",
            "618f77735e4943d79578a8d9e4c93380",
            "b32a427be64444ef8209f92afe2fe7f9",
            "6eeca2f8c57d4b81bbd20bd8b29c0012",
            "7e47d26304134f30a78fa839f2a8ebd9",
            "8540ffd55ef44951a4f9231dda0de91b"
          ]
        },
        "id": "EXUK9-ZFwjHk",
        "outputId": "deb59021-bd42-42e2-d6b7-41d2b35717bb"
      },
      "source": [
        "batch_size = 1000\n",
        "\n",
        "transform = transforms.Compose([\n",
        "                                transforms.ToTensor(),\n",
        "                                transforms.Normalize((0.5, 0.5, 0.5), (0.5, 0.5, 0.5))\n",
        "])\n",
        "\n",
        "train_data = datasets.CIFAR10(root=\"./data\", train=True, download=True, transform=transform)\n",
        "test_data = datasets.CIFAR10(root=\"./data\", train=False, download=True, transform=transform)\n",
        "\n",
        "# Split train data into training and valdation test sets\n",
        "# https://stackoverflow.com/questions/57789645/torch-utils-data-random-split-is-not-splitting-the-data\n",
        "train_size = int(0.8*len(train_data))\n",
        "val_size = len(train_data) - train_size\n",
        "train_data, val_data = torch.utils.data.random_split(train_data, [train_size, val_size])\n",
        "\n",
        "train_loader = DataLoader(train_data,batch_size=batch_size, shuffle=True, num_workers=2)\n",
        "val_loader = DataLoader(val_data, batch_size=batch_size, shuffle=False, num_workers=2)\n",
        "test_loader = DataLoader(test_data, batch_size=batch_size, shuffle=False, num_workers=2)"
      ],
      "execution_count": null,
      "outputs": [
        {
          "output_type": "stream",
          "text": [
            "Downloading https://www.cs.toronto.edu/~kriz/cifar-10-python.tar.gz to ./data/cifar-10-python.tar.gz\n"
          ],
          "name": "stdout"
        },
        {
          "output_type": "display_data",
          "data": {
            "application/vnd.jupyter.widget-view+json": {
              "model_id": "e83c19cb39bc4b739df9c86cf08563c5",
              "version_minor": 0,
              "version_major": 2
            },
            "text/plain": [
              "HBox(children=(FloatProgress(value=0.0, max=170498071.0), HTML(value='')))"
            ]
          },
          "metadata": {
            "tags": []
          }
        },
        {
          "output_type": "stream",
          "text": [
            "\n",
            "Extracting ./data/cifar-10-python.tar.gz to ./data\n",
            "Files already downloaded and verified\n"
          ],
          "name": "stdout"
        }
      ]
    },
    {
      "cell_type": "code",
      "metadata": {
        "id": "LAFmtpkGwlH8"
      },
      "source": [
        "class Train():\n",
        "  def __init__(self, name, model, optimizer, loss_fn, train_loader, val_loader, epochs):\n",
        "    self.name = name\n",
        "    self.model = model\n",
        "    self.optimizer = optimizer\n",
        "    self.loss_fn = loss_fn\n",
        "    self.train_loader = train_loader\n",
        "    self.val_loader = val_loader\n",
        "\n",
        "    self.epochs = epochs\n",
        "    self.device = torch.device(\"cuda:0\" if torch.cuda.is_available() else \"cpu\")\n",
        "\n",
        "  def train_val(self):\n",
        "    self.best_val_loss = float('inf')\n",
        "    \n",
        "    self.train_losses = []\n",
        "    self.train_accuracies = []\n",
        "\n",
        "    self.val_losses = []\n",
        "    self.val_accuracies = []\n",
        "\n",
        "    for epoch in range(self.epochs):\n",
        "      start_time = time.monotonic()\n",
        "\n",
        "      self.train_loss, self.train_accuracy = self.train()\n",
        "      self.val_loss, self.val_accuracy = self.evaluate()\n",
        "\n",
        "      if self.val_loss < self.best_val_loss:\n",
        "        best_val_loss = self.val_loss\n",
        "        torch.save(self.model.state_dict(), '/content/drive/MyDrive/Colab Notebooks/Validation_state/'+self.name+'.pth')\n",
        "\n",
        "      self.train_losses.append(self.train_loss)\n",
        "      self.train_accuracies.append(self.train_accuracy)\n",
        "\n",
        "      self.val_losses.append(self.val_loss)\n",
        "      self.val_accuracies.append(self.val_accuracy)\n",
        "\n",
        "      end_time = time.monotonic()\n",
        "\n",
        "      epoch_mins, epoch_secs = self.epoch_time(start_time, end_time)\n",
        "\n",
        "      print(f'Epoch: {epoch+1:02} | Epoch Time: {epoch_mins}m {epoch_secs}s')\n",
        "      print(f'\\tTrain Loss: {self.train_loss:.3f} | Train Acc: {self.train_accuracy*100:.2f}%')\n",
        "      print(f'\\tVal.  Loss: {self.val_loss:.3f} | Val. Acc: {self.val_accuracy*100:.2f}%')\n",
        "      print(\"=\"*75)\n",
        "\n",
        "    self.save()\n",
        "\n",
        "  def save(self):\n",
        "    df = pd.DataFrame()\n",
        "\n",
        "    df['Train Loss'] = self.train_losses\n",
        "    df['Train Accracy'] = self.train_accuracies\n",
        "\n",
        "    df['Validation Loss'] = self.val_losses\n",
        "    df['Validation Accuracy'] = self.val_accuracies\n",
        "\n",
        "    df.to_csv('/content/drive/MyDrive/Colab Notebooks/Saved_CSV/'+self.name+'.csv')\n",
        "    \n",
        "  def train(self):\n",
        "    avg_losses = []\n",
        "    avg_accuracies = []\n",
        "    for i, data in enumerate(self.train_loader):\n",
        "      inputs, labels = data[0].to(self.device), data[1].to(self.device)\n",
        "\n",
        "      self.optimizer.zero_grad()\n",
        "\n",
        "      y_pred = self.model(inputs)\n",
        "      loss = self.loss_fn(y_pred, labels)\n",
        "\n",
        "      loss.backward()\n",
        "      self.optimizer.step()\n",
        "\n",
        "      y_pred = y_pred.argmax(1)\n",
        "      accuracy = accuracy_score(labels.cpu().detach().numpy(), y_pred.cpu().detach().numpy())\n",
        "      \n",
        "      avg_losses.append(loss.item())\n",
        "      avg_accuracies.append(accuracy)\n",
        "\n",
        "    avg_loss = sum(avg_losses) / len(avg_losses)\n",
        "    avg_accuracy = sum(avg_accuracies) / len(avg_accuracies)\n",
        "    \n",
        "    return avg_loss, avg_accuracy\n",
        "\n",
        "  def evaluate(self):\n",
        "    avg_losses = []\n",
        "    avg_accuracies = []\n",
        "\n",
        "    with torch.no_grad():\n",
        "      for i, data in enumerate(val_loader):\n",
        "        inputs, labels = data[0].to(device), data[1].to(device)\n",
        "\n",
        "        y_pred = self.model(inputs)\n",
        "        loss = self.loss_fn(y_pred, labels)\n",
        "        accuracy = accuracy_score(labels.cpu().detach().numpy(), y_pred.argmax(1).cpu().detach().numpy())\n",
        "\n",
        "        avg_losses.append(loss.item())\n",
        "        avg_accuracies.append(accuracy)\n",
        "\n",
        "    avg_loss = sum(avg_losses) / len(avg_losses)\n",
        "    avg_accuracy = sum(avg_accuracies) / len(avg_accuracies)\n",
        "\n",
        "    return avg_loss, avg_accuracy\n",
        "\n",
        "  def test(self, best_model, test_loader):\n",
        "    avg_losses = []\n",
        "    avg_accuracies = []\n",
        "\n",
        "    with torch.no_grad():\n",
        "      for i, data in enumerate(test_loader):\n",
        "        inputs, labels = data[0].to(device), data[1].to(device)\n",
        "\n",
        "        y_pred = best_model(inputs)\n",
        "        loss = self.loss_fn(y_pred, labels)\n",
        "        accuracy = accuracy_score(labels.cpu().detach().numpy(), y_pred.argmax(1).cpu().detach().numpy())\n",
        "\n",
        "        avg_losses.append(loss.item())\n",
        "        avg_accuracies.append(accuracy)\n",
        "\n",
        "    avg_loss = sum(avg_losses) / len(avg_losses)\n",
        "    avg_accuracy = sum(avg_accuracies) / len(avg_accuracies)\n",
        "\n",
        "    return avg_loss, avg_accuracy\n",
        "\n",
        "  def epoch_time(self, start_time, end_time):\n",
        "    elapsed_time = end_time - start_time\n",
        "    elapsed_mins = int(elapsed_time / 60)\n",
        "    elapsed_secs = int(elapsed_time - (elapsed_mins * 60))\n",
        "    return elapsed_mins, elapsed_secs\n",
        "\n",
        "  def loss_plot(self):\n",
        "    Epochs = [i for i in range(self.epochs)]\n",
        "    plt.plot(Epochs, self.train_losses,'r', label=\"Training loss\")\n",
        "    plt.plot(Epochs, self.val_losses,'g', label=\"Validation loss\")\n",
        "    plt.legend()\n",
        "    plt.show()\n",
        "\n",
        "  def accuracy_plot(self):\n",
        "    Epochs = [i for i in range(self.epochs)]\n",
        "    multiplied_list = [element * 100 for element in self.train_accuracies]\n",
        "    multiplied_list1 = [element * 100 for element in self.val_accuracies]\n",
        "    plt.plot(Epochs, multiplied_list,'r', label=\"Training Accuracy\")\n",
        "    plt.plot(Epochs, multiplied_list1,'g', label=\"Validation Accuracy\")\n",
        "    plt.legend()\n",
        "    plt.show()\n",
        "\n",
        "  def save_model(self):\n",
        "    PATH = '/content/drive/MyDrive/Colab Notebooks/'+self.name+'_cifar10.pth'\n",
        "    torch.save(self.model.state_dict(), PATH)"
      ],
      "execution_count": null,
      "outputs": []
    },
    {
      "cell_type": "code",
      "metadata": {
        "colab": {
          "base_uri": "https://localhost:8080/"
        },
        "id": "o0o1PJpgwvcs",
        "outputId": "b66e09df-d7c4-4aff-dee2-ce225155b503"
      },
      "source": [
        "vgg11_model = models.vgg11_bn(pretrained=True)\n",
        "vgg11_model.classifier[-1] = nn.Linear(in_features=4096, out_features=10, bias=True)\n",
        "for parameter in vgg11_model.classifier[:-1].parameters():\n",
        "    parameter.requires_grad = False\n",
        "\n",
        "lr = 5e-4\n",
        "epochs = 20\n",
        "params = [\n",
        "          {'params': vgg11_model.features.parameters(), 'lr': lr / 10},\n",
        "          {'params': vgg11_model.classifier.parameters()}\n",
        "         ]\n",
        "optimizer = optim.Adam(params=params, lr=lr)\n",
        "loss_fn = nn.CrossEntropyLoss()\n",
        "\n",
        "vgg11_model.to(device)\n",
        "\n",
        "vgg11 = Train(name=\"vgg11\", model=vgg11_model, optimizer=optimizer, loss_fn=loss_fn, train_loader=train_loader, val_loader=val_loader, epochs=epochs)\n",
        "vgg11.train_val()"
      ],
      "execution_count": null,
      "outputs": [
        {
          "output_type": "stream",
          "text": [
            "Epoch: 01 | Epoch Time: 1m 34s\n",
            "\tTrain Loss: 1.395 | Train Acc: 51.13%\n",
            "\tVal.  Loss: 0.937 | Val. Acc: 67.32%\n",
            "===========================================================================\n",
            "Epoch: 02 | Epoch Time: 1m 34s\n",
            "\tTrain Loss: 0.717 | Train Acc: 75.01%\n",
            "\tVal.  Loss: 0.746 | Val. Acc: 74.57%\n",
            "===========================================================================\n",
            "Epoch: 03 | Epoch Time: 1m 34s\n",
            "\tTrain Loss: 0.486 | Train Acc: 82.88%\n",
            "\tVal.  Loss: 0.689 | Val. Acc: 77.46%\n",
            "===========================================================================\n",
            "Epoch: 04 | Epoch Time: 1m 34s\n",
            "\tTrain Loss: 0.332 | Train Acc: 88.58%\n",
            "\tVal.  Loss: 0.674 | Val. Acc: 78.89%\n",
            "===========================================================================\n",
            "Epoch: 05 | Epoch Time: 1m 34s\n",
            "\tTrain Loss: 0.215 | Train Acc: 92.69%\n",
            "\tVal.  Loss: 0.713 | Val. Acc: 79.56%\n",
            "===========================================================================\n",
            "Epoch: 06 | Epoch Time: 1m 34s\n",
            "\tTrain Loss: 0.127 | Train Acc: 96.06%\n",
            "\tVal.  Loss: 0.759 | Val. Acc: 79.41%\n",
            "===========================================================================\n",
            "Epoch: 07 | Epoch Time: 1m 34s\n",
            "\tTrain Loss: 0.073 | Train Acc: 97.93%\n",
            "\tVal.  Loss: 0.822 | Val. Acc: 80.08%\n",
            "===========================================================================\n",
            "Epoch: 08 | Epoch Time: 1m 34s\n",
            "\tTrain Loss: 0.041 | Train Acc: 99.00%\n",
            "\tVal.  Loss: 0.879 | Val. Acc: 80.23%\n",
            "===========================================================================\n",
            "Epoch: 09 | Epoch Time: 1m 34s\n",
            "\tTrain Loss: 0.025 | Train Acc: 99.48%\n",
            "\tVal.  Loss: 0.926 | Val. Acc: 80.48%\n",
            "===========================================================================\n",
            "Epoch: 10 | Epoch Time: 1m 34s\n",
            "\tTrain Loss: 0.015 | Train Acc: 99.71%\n",
            "\tVal.  Loss: 0.976 | Val. Acc: 80.25%\n",
            "===========================================================================\n",
            "Epoch: 11 | Epoch Time: 1m 34s\n",
            "\tTrain Loss: 0.010 | Train Acc: 99.88%\n",
            "\tVal.  Loss: 0.985 | Val. Acc: 80.75%\n",
            "===========================================================================\n",
            "Epoch: 12 | Epoch Time: 1m 34s\n",
            "\tTrain Loss: 0.008 | Train Acc: 99.90%\n",
            "\tVal.  Loss: 1.026 | Val. Acc: 80.73%\n",
            "===========================================================================\n",
            "Epoch: 13 | Epoch Time: 1m 34s\n",
            "\tTrain Loss: 0.006 | Train Acc: 99.95%\n",
            "\tVal.  Loss: 1.052 | Val. Acc: 81.11%\n",
            "===========================================================================\n",
            "Epoch: 14 | Epoch Time: 1m 34s\n",
            "\tTrain Loss: 0.005 | Train Acc: 99.94%\n",
            "\tVal.  Loss: 1.080 | Val. Acc: 81.18%\n",
            "===========================================================================\n",
            "Epoch: 15 | Epoch Time: 1m 34s\n",
            "\tTrain Loss: 0.003 | Train Acc: 99.98%\n",
            "\tVal.  Loss: 1.082 | Val. Acc: 81.04%\n",
            "===========================================================================\n",
            "Epoch: 16 | Epoch Time: 1m 34s\n",
            "\tTrain Loss: 0.003 | Train Acc: 100.00%\n",
            "\tVal.  Loss: 1.111 | Val. Acc: 81.12%\n",
            "===========================================================================\n",
            "Epoch: 17 | Epoch Time: 1m 34s\n",
            "\tTrain Loss: 0.002 | Train Acc: 99.98%\n",
            "\tVal.  Loss: 1.146 | Val. Acc: 81.03%\n",
            "===========================================================================\n",
            "Epoch: 18 | Epoch Time: 1m 34s\n",
            "\tTrain Loss: 0.002 | Train Acc: 99.98%\n",
            "\tVal.  Loss: 1.156 | Val. Acc: 81.22%\n",
            "===========================================================================\n",
            "Epoch: 19 | Epoch Time: 1m 34s\n",
            "\tTrain Loss: 0.002 | Train Acc: 99.98%\n",
            "\tVal.  Loss: 1.159 | Val. Acc: 81.21%\n",
            "===========================================================================\n",
            "Epoch: 20 | Epoch Time: 1m 34s\n",
            "\tTrain Loss: 0.002 | Train Acc: 99.99%\n",
            "\tVal.  Loss: 1.180 | Val. Acc: 81.33%\n",
            "===========================================================================\n"
          ],
          "name": "stdout"
        }
      ]
    },
    {
      "cell_type": "code",
      "metadata": {
        "colab": {
          "base_uri": "https://localhost:8080/",
          "height": 264
        },
        "id": "ddCIJn9pw2UT",
        "outputId": "b1a0edab-288d-4931-c10f-c4a1574a4733"
      },
      "source": [
        "vgg11.loss_plot()"
      ],
      "execution_count": null,
      "outputs": [
        {
          "output_type": "display_data",
          "data": {
            "image/png": "[encoded data removed]",
            "text/plain": [
              "<Figure size 432x288 with 1 Axes>"
            ]
          },
          "metadata": {
            "tags": [],
            "needs_background": "light"
          }
        }
      ]
    },
    {
      "cell_type": "code",
      "metadata": {
        "colab": {
          "base_uri": "https://localhost:8080/",
          "height": 264
        },
        "id": "EwxcOvvZ6gLH",
        "outputId": "71c3093e-40b0-437a-b5cf-5cee5525f5c7"
      },
      "source": [
        "vgg11.accuracy_plot()"
      ],
      "execution_count": null,
      "outputs": [
        {
          "output_type": "display_data",
          "data": {
            "image/png": "[encoded data removed]",
            "text/plain": [
              "<Figure size 432x288 with 1 Axes>"
            ]
          },
          "metadata": {
            "tags": [],
            "needs_background": "light"
          }
        }
      ]
    },
    {
      "cell_type": "code",
      "metadata": {
        "colab": {
          "base_uri": "https://localhost:8080/"
        },
        "id": "kidCHAcO6i9N",
        "outputId": "208d700b-7a34-4d12-aeaa-b86f1eab2cb6"
      },
      "source": [
        "best_model = models.vgg11_bn(pretrained=True)\n",
        "# Change the final layer to no. of output dimensions\n",
        "best_model.classifier[-1] = nn.Linear(in_features=4096, out_features=10, bias=True)\n",
        "for parameter in best_model.classifier[:-1].parameters():\n",
        "    parameter.requires_grad = False\n",
        "\n",
        "best_model.to(device)\n",
        "best_model.load_state_dict(torch.load('/content/drive/MyDrive/Colab Notebooks/Validation_state/vgg11.pth'))\n",
        "\n",
        "test_loss, test_accuracy = vgg11.test(best_model, test_loader)\n",
        "print(f'Test Loss: {test_loss:.3f} | Test Acc: {test_accuracy*100:.2f}%')"
      ],
      "execution_count": null,
      "outputs": [
        {
          "output_type": "stream",
          "text": [
            "Test Loss: 1.208 | Test Acc: 80.95%\n"
          ],
          "name": "stdout"
        }
      ]
    },
    {
      "cell_type": "code",
      "metadata": {
        "id": "C9_7qvuG62gl"
      },
      "source": [
        "def get_predictions(model, iterator):\n",
        "\n",
        "    model.eval()\n",
        "\n",
        "    images = []\n",
        "    labels = []\n",
        "    probs = []\n",
        "\n",
        "    with torch.no_grad():\n",
        "\n",
        "        for (x, y) in iterator:\n",
        "\n",
        "            x = x.to(device)\n",
        "\n",
        "            y_pred = model(x)\n",
        "\n",
        "            y_prob = F.softmax(y_pred, dim = -1)\n",
        "            top_pred = y_prob.argmax(1, keepdim = True)\n",
        "\n",
        "            images.append(x.cpu())\n",
        "            labels.append(y.cpu())\n",
        "            probs.append(y_prob.cpu())\n",
        "\n",
        "    images = torch.cat(images, dim = 0)\n",
        "    labels = torch.cat(labels, dim = 0)\n",
        "    probs = torch.cat(probs, dim = 0)\n",
        "\n",
        "    return images, labels, probs\n",
        "\n",
        "def plot_confusion_matrix(labels, pred_labels, classes):\n",
        "    \n",
        "    fig = plt.figure(figsize = (10, 10));\n",
        "    ax = fig.add_subplot(1, 1, 1);\n",
        "    cm = confusion_matrix(labels, pred_labels);\n",
        "    cm = ConfusionMatrixDisplay(cm, display_labels = classes);\n",
        "    cm.plot(values_format = 'd', cmap = 'Blues', ax = ax)\n",
        "    plt.xticks(rotation = 20)"
      ],
      "execution_count": null,
      "outputs": []
    },
    {
      "cell_type": "code",
      "metadata": {
        "colab": {
          "base_uri": "https://localhost:8080/",
          "height": 580
        },
        "id": "_lCgl7Ad7Sk-",
        "outputId": "bedf2aff-2569-47ba-d414-148a16785f17"
      },
      "source": [
        "images, labels, probs = get_predictions(best_model, test_loader)\n",
        "pred_labels = torch.argmax(probs, 1)\n",
        "classes = test_data.classes\n",
        "plot_confusion_matrix(labels, pred_labels, classes)"
      ],
      "execution_count": null,
      "outputs": [
        {
          "output_type": "display_data",
          "data": {
            "image/png": "[encoded data removed]",
            "text/plain": [
              "<Figure size 720x720 with 2 Axes>"
            ]
          },
          "metadata": {
            "tags": [],
            "needs_background": "light"
          }
        }
      ]
    },
    {
      "cell_type": "markdown",
      "metadata": {
        "id": "z1FVkeYInjW2"
      },
      "source": [
        "precision:- OF all the images that have been classified for that class, how many did we correctly classify <br>\n",
        "recall : - of all the images that have been truly classified for that class, how many did we label for that class"
      ]
    },
    {
      "cell_type": "code",
      "metadata": {
        "colab": {
          "base_uri": "https://localhost:8080/"
        },
        "id": "IN6lVt5x7VMF",
        "outputId": "ddea9c8f-dc4e-4caa-e421-044ba8f19337"
      },
      "source": [
        "print(f'{classification_report(labels, pred_labels)}')"
      ],
      "execution_count": null,
      "outputs": [
        {
          "output_type": "stream",
          "text": [
            "              precision    recall  f1-score   support\n",
            "\n",
            "           0       0.85      0.86      0.85      1000\n",
            "           1       0.89      0.91      0.90      1000\n",
            "           2       0.77      0.76      0.76      1000\n",
            "           3       0.68      0.66      0.67      1000\n",
            "           4       0.77      0.79      0.78      1000\n",
            "           5       0.75      0.74      0.74      1000\n",
            "           6       0.85      0.86      0.86      1000\n",
            "           7       0.85      0.84      0.85      1000\n",
            "           8       0.90      0.91      0.90      1000\n",
            "           9       0.89      0.87      0.88      1000\n",
            "\n",
            "    accuracy                           0.82     10000\n",
            "   macro avg       0.82      0.82      0.82     10000\n",
            "weighted avg       0.82      0.82      0.82     10000\n",
            "\n"
          ],
          "name": "stdout"
        }
      ]
    },
    {
      "cell_type": "code",
      "metadata": {
        "id": "sRNlvu9l7ZQN"
      },
      "source": [
        ""
      ],
      "execution_count": null,
      "outputs": []
    }
  ]
}